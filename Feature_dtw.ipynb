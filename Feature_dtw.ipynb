{
 "cells": [
  {
   "cell_type": "code",
   "execution_count": 55,
   "id": "improved-issue",
   "metadata": {},
   "outputs": [],
   "source": [
    "import numpy as np\n",
    "from dtw import dtw\n",
    "from numpy.core.shape_base import block\n",
    "from scipy import signal\n",
    "from scipy.signal.windows import hann\n",
    "from scipy.fft import fft\n",
    "from scipy import stats\n",
    "import evaluate\n",
    "import math\n",
    "from scipy.io.wavfile import read as wavread\n",
    "from matplotlib import pyplot as plt"
   ]
  },
  {
   "cell_type": "code",
   "execution_count": 26,
   "id": "close-edmonton",
   "metadata": {},
   "outputs": [],
   "source": [
    "test_path = 'letters/1/A/PZ/0.wav'"
   ]
  },
  {
   "cell_type": "code",
   "execution_count": 27,
   "id": "exposed-therapist",
   "metadata": {},
   "outputs": [],
   "source": [
    "fs, x = wavread(test_path)"
   ]
  },
  {
   "cell_type": "code",
   "execution_count": 66,
   "id": "modern-storage",
   "metadata": {},
   "outputs": [],
   "source": [
    "def  block_audio(x,fs, blockSize=2048,hopSize=512):\n",
    "    # allocate memory\n",
    "    numBlocks = math.ceil(x.size / hopSize)\n",
    "    xb = np.zeros([numBlocks, blockSize])\n",
    "\n",
    "    x = np.concatenate((x, np.zeros(blockSize)),axis=0)\n",
    "\n",
    "    for n in range(0, numBlocks):\n",
    "        i_start = n * hopSize\n",
    "        i_stop = np.min([x.size - 1, i_start + blockSize - 1])\n",
    "\n",
    "        xb[n][np.arange(0,blockSize)] = x[np.arange(i_start, i_stop + 1)]\n",
    "    return xb\n",
    "\n",
    "def ToolReadAudio(cAudioFilePath):\n",
    "    [samplerate, x] = wavread(cAudioFilePath)\n",
    "    if x.dtype == 'float32':\n",
    "        audio = x\n",
    "    else:\n",
    "        # change range to [-1,1)\n",
    "        if x.dtype == 'uint8':\n",
    "            nbits = 8\n",
    "        elif x.dtype == 'int16':\n",
    "            nbits = 16\n",
    "        elif x.dtype == 'int32':\n",
    "            nbits = 32\n",
    "        audio = x / float(2**(nbits - 1))\n",
    "\n",
    "    # special case of unsigned format\n",
    "    if x.dtype == 'uint8':\n",
    "        audio = audio - 1.\n",
    "    return (samplerate, audio)\n",
    "\n",
    "def compute_spectrogram(xb, fs):\n",
    "    window = signal.hann(xb.shape[1])\n",
    "    windowed_signal = xb*window\n",
    "    X_jw = fft(windowed_signal)\n",
    "    X = abs(X_jw)\n",
    "    f = np.arange(X.shape[1])*fs/X.shape[1]\n",
    "    bins = f.size // 2 + 1 \n",
    "    return X[:,:bins]"
   ]
  },
  {
   "cell_type": "code",
   "execution_count": null,
   "id": "distributed-leadership",
   "metadata": {},
   "outputs": [],
   "source": []
  },
  {
   "cell_type": "code",
   "execution_count": 67,
   "id": "capital-grain",
   "metadata": {},
   "outputs": [],
   "source": [
    "def get_power(x):\n",
    "    # return np.log10((block_audio(np.diff(x), 2048, 512)**2).sum(axis=1).clip(1e-10, 1)) * 10\n",
    "    xb = block_audio(np.diff(x), 2048, 512)\n",
    "    # xb *= np.hanning(xb.shape[1])[None, :]\n",
    "    return np.log10(np.maximum((xb**2).sum(axis=1), 1e-10)) * 10\n",
    "    # spec = np.abs(np.fft.rfft(xb))[:, :22]\n",
    "    # return (spec**2).sum(axis=1)\n",
    "    # return np.log10((spec**2).sum(axis=1).clip(1e-10, 1)) * 10"
   ]
  },
  {
   "cell_type": "code",
   "execution_count": 68,
   "id": "recorded-buddy",
   "metadata": {},
   "outputs": [],
   "source": [
    "def get_spectral_flux(x, fs, blockSize, hopSize):\n",
    "    xb = block_audio(x, fs, blockSize, hopSize)\n",
    "    spec_diff = (np.diff(compute_spectrogram(xb, fs), axis = 0))**2\n",
    "    flux = np.sqrt(np.sum(spec_diff, axis = 1))/spec_diff.shape[1]\n",
    "    plt.plot(flux)\n",
    "    return flux"
   ]
  },
  {
   "cell_type": "code",
   "execution_count": 69,
   "id": "biological-plumbing",
   "metadata": {},
   "outputs": [],
   "source": [
    "def extract_spectral_flux(xb):\n",
    "    X = fft(hann(xb.shape[1])*xb)\n",
    "    bins = X.shape[1] // 2\n",
    "    mag = np.abs(X)[:,:bins]\n",
    "    diff = np.concatenate((np.zeros((1,mag.shape[1])), mag[:-1]), axis=0)\n",
    "    spectral_flux = np.sqrt(np.sum(np.square(mag-diff), axis=1))/(mag.shape[1]+1)\n",
    "    return spectral_flux"
   ]
  },
  {
   "cell_type": "code",
   "execution_count": 73,
   "id": "sensitive-daughter",
   "metadata": {},
   "outputs": [
    {
     "ename": "ValueError",
     "evalue": "operands could not be broadcast together with shapes (125,) (124,) ",
     "output_type": "error",
     "traceback": [
      "\u001b[0;31m---------------------------------------------------------------------------\u001b[0m",
      "\u001b[0;31mValueError\u001b[0m                                Traceback (most recent call last)",
      "\u001b[0;32m<ipython-input-73-848ff28e3f3b>\u001b[0m in \u001b[0;36m<module>\u001b[0;34m\u001b[0m\n\u001b[1;32m      1\u001b[0m \u001b[0mxb\u001b[0m \u001b[0;34m=\u001b[0m \u001b[0mblock_audio\u001b[0m\u001b[0;34m(\u001b[0m\u001b[0mx\u001b[0m\u001b[0;34m,\u001b[0m \u001b[0mfs\u001b[0m\u001b[0;34m,\u001b[0m \u001b[0;36m2048\u001b[0m\u001b[0;34m,\u001b[0m \u001b[0;36m512\u001b[0m\u001b[0;34m)\u001b[0m\u001b[0;34m\u001b[0m\u001b[0;34m\u001b[0m\u001b[0m\n\u001b[0;32m----> 2\u001b[0;31m \u001b[0mextract_spectral_flux\u001b[0m\u001b[0;34m(\u001b[0m\u001b[0mxb\u001b[0m\u001b[0;34m)\u001b[0m\u001b[0;34m-\u001b[0m \u001b[0mget_spectral_flux\u001b[0m\u001b[0;34m(\u001b[0m\u001b[0mx\u001b[0m\u001b[0;34m,\u001b[0m \u001b[0mfs\u001b[0m\u001b[0;34m,\u001b[0m \u001b[0;36m2048\u001b[0m\u001b[0;34m,\u001b[0m \u001b[0;36m512\u001b[0m\u001b[0;34m)\u001b[0m\u001b[0;34m\u001b[0m\u001b[0;34m\u001b[0m\u001b[0m\n\u001b[0m",
      "\u001b[0;31mValueError\u001b[0m: operands could not be broadcast together with shapes (125,) (124,) "
     ]
    },
    {
     "data": {
      "image/png": "[encoded data removed]",
      "text/plain": [
       "<Figure size 432x288 with 1 Axes>"
      ]
     },
     "metadata": {
      "needs_background": "light"
     },
     "output_type": "display_data"
    }
   ],
   "source": [
    "xb = block_audio(x, fs, 2048, 512)\n",
    "extract_spectral_flux(xb) get_spectral_flux(x, fs, 2048, 512)"
   ]
  },
  {
   "cell_type": "code",
   "execution_count": null,
   "id": "occupied-construction",
   "metadata": {},
   "outputs": [],
   "source": []
  }
 ],
 "metadata": {
  "kernelspec": {
   "display_name": "Python 3",
   "language": "python",
   "name": "python3"
  },
  "language_info": {
   "codemirror_mode": {
    "name": "ipython",
    "version": 3
   },
   "file_extension": ".py",
   "mimetype": "text/x-python",
   "name": "python",
   "nbconvert_exporter": "python",
   "pygments_lexer": "ipython3",
   "version": "3.9.0"
  }
 },
 "nbformat": 4,
 "nbformat_minor": 5
}
