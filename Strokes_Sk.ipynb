{
 "cells": [
  {
   "cell_type": "markdown",
   "id": "a3ab5c8c",
   "metadata": {},
   "source": [
    "Let's clean up `Strokes.ipynb` a bit and see if the choice of classifier makes any difference, using scikit-learn."
   ]
  },
  {
   "cell_type": "code",
   "execution_count": 1,
   "id": "bb3d3bd3",
   "metadata": {},
   "outputs": [],
   "source": [
    "import matplotlib.pyplot as plt\n",
    "from matplotlib import mlab\n",
    "import numpy as np\n",
    "import scipy.io.wavfile\n",
    "import scipy.signal\n",
    "from IPython.display import Audio"
   ]
  },
  {
   "cell_type": "code",
   "execution_count": 7,
   "id": "00a6bbfe",
   "metadata": {},
   "outputs": [],
   "source": [
    "alphabet = ''.join(chr(ord(\"A\") + i) for i in range(26))"
   ]
  },
  {
   "cell_type": "code",
   "execution_count": 8,
   "id": "8f729e18",
   "metadata": {},
   "outputs": [],
   "source": [
    "def load_dataset():\n",
    "    letters = np.empty((4, 26, 20), dtype=object)\n",
    "    for i, j, k in np.ndindex(letters.shape):\n",
    "        subject = i + 1\n",
    "        letter = alphabet[j]\n",
    "        fs, x = scipy.io.wavfile.read(f\"letters/{subject}/{letter}/PZ/{k}.wav\")\n",
    "        letters[i, j, k] = x\n",
    "    # Assumes all letters have same sample rate.\n",
    "    return letters, fs"
   ]
  },
  {
   "cell_type": "code",
   "execution_count": 142,
   "id": "9cc7c843",
   "metadata": {},
   "outputs": [],
   "source": [
    "def filter_transients(x, n):\n",
    "    return np.min(x[:len(x)//n*n].reshape((-1, n)), axis=1)\n",
    "\n",
    "def find_strokes(x, fs, verbose=False):\n",
    "    X, freqs, t = mlab.specgram(x, Fs=fs, NFFT=512, noverlap=256)\n",
    "    summed = np.sum(X[15:30], axis=0)\n",
    "    filtered = filter_transients(summed, 3)\n",
    "    smoothed = np.convolve(filtered, np.ones(6))\n",
    "    smoothed /= np.max(smoothed)\n",
    "    peaks, info = scipy.signal.find_peaks(smoothed, height=0.2, prominence=0.15, distance=10)\n",
    "    amp = info[\"peak_heights\"]\n",
    "    if verbose:\n",
    "        # plt.plot(summed[::3] / np.max(summed))\n",
    "        # plt.plot(filtered / np.max(filtered))\n",
    "        plt.plot(smoothed)\n",
    "        plt.scatter(peaks, amp, c='red')\n",
    "        plt.show()\n",
    "    times = t[peaks]\n",
    "    times -= times[0]\n",
    "    # Interestingly, normalizing times seems to make the results slightly worse.\n",
    "    # (But this may be simply becuase stroke identification is not very good yet.)\n",
    "    if len(times) > 1:\n",
    "        times /= times[-1]\n",
    "    # Matrix of [[stroke time, stroke amplitude]]\n",
    "    return np.vstack((times, amp)).T"
   ]
  },
  {
   "cell_type": "code",
   "execution_count": 22,
   "id": "0fc4c827",
   "metadata": {},
   "outputs": [
    {
     "data": {
      "image/png": "[encoded data removed]",
      "text/plain": [
       "<Figure size 432x288 with 1 Axes>"
      ]
     },
     "metadata": {
      "needs_background": "light"
     },
     "output_type": "display_data"
    },
    {
     "name": "stdout",
     "output_type": "stream",
     "text": [
      "[[0.         0.74029854]\n",
      " [0.11609977 1.        ]\n",
      " [0.23800454 0.52454731]]\n"
     ]
    },
    {
     "data": {
      "image/png": "[encoded data removed]",
      "text/plain": [
       "<Figure size 432x288 with 1 Axes>"
      ]
     },
     "metadata": {
      "needs_background": "light"
     },
     "output_type": "display_data"
    },
    {
     "name": "stdout",
     "output_type": "stream",
     "text": [
      "[[0.         1.        ]\n",
      " [0.06385488 0.75268031]]\n"
     ]
    }
   ],
   "source": [
    "def foo():\n",
    "    letters, fs = load_dataset()\n",
    "    print(find_strokes(letters[0, 17, 16], fs, verbose=True))\n",
    "    print(find_strokes(letters[0, 2, 16], fs, verbose=True))\n",
    "\n",
    "foo()"
   ]
  },
  {
   "cell_type": "code",
   "execution_count": 104,
   "id": "47650507",
   "metadata": {},
   "outputs": [],
   "source": [
    "def nearest_neighbor(x, train):\n",
    "    best = None\n",
    "    for i, y in np.ndenumerate(train):\n",
    "        # NOTE: If the number of strokes does not match, this dismisses the match completely.\n",
    "        if len(x) != len(y):\n",
    "            continue\n",
    "        dist = np.linalg.norm(x - y)\n",
    "        if best is None or dist < best[1]:\n",
    "            best = (i, dist)\n",
    "    return best[0][1]"
   ]
  },
  {
   "cell_type": "code",
   "execution_count": 105,
   "id": "b1c9d3ea",
   "metadata": {},
   "outputs": [],
   "source": [
    "def eval_accuracy(test, train):\n",
    "    results = np.empty(test.shape)\n",
    "    for i, x in np.ndenumerate(test):\n",
    "        results[i] = nearest_neighbor(x, train)\n",
    "    return np.mean(np.indices(results.shape)[1] == results)"
   ]
  },
  {
   "cell_type": "code",
   "execution_count": 106,
   "id": "bc301fef",
   "metadata": {},
   "outputs": [],
   "source": [
    "def process_dataset(letters, fs):\n",
    "    strokes = np.empty(letters.shape, dtype=object)\n",
    "    for i in np.ndindex(letters.shape):\n",
    "        strokes[i] = find_strokes(letters[i], fs)\n",
    "    return strokes"
   ]
  },
  {
   "cell_type": "code",
   "execution_count": 139,
   "id": "b44fd7c1",
   "metadata": {},
   "outputs": [
    {
     "name": "stdout",
     "output_type": "stream",
     "text": [
      "With all subjects in training data: 10.96%\n",
      "Subject 0: 7.12%\n",
      "Subject 1: 9.42%\n",
      "Subject 2: 10.0%\n",
      "Subject 3: 8.46%\n"
     ]
    }
   ],
   "source": [
    "def run():\n",
    "    letters, fs = load_dataset()\n",
    "    strokes = process_dataset(letters, fs)\n",
    "    test = strokes[:, :, 15:]\n",
    "    train = strokes[:, :, :15]\n",
    "    print(f\"With all subjects in training data: {round(eval_accuracy(test, train) * 100, 2)}%\")\n",
    "    for subject in range(len(strokes)):\n",
    "        test = strokes[subject][None]\n",
    "        train = np.vstack((strokes[:subject], strokes[subject+1:]))\n",
    "        print(f\"Subject {subject}: {round(eval_accuracy(test, train) * 100, 2)}%\")\n",
    "\n",
    "run()"
   ]
  },
  {
   "cell_type": "code",
   "execution_count": 147,
   "id": "80c1aa30",
   "metadata": {},
   "outputs": [],
   "source": [
    "import sklearn\n",
    "\n",
    "def pad_strokes(strokes):\n",
    "    max_strokes = len(max(strokes.flat, key=len))\n",
    "    stroke_matrix = np.empty(strokes.shape + (max_strokes, 2))\n",
    "    for i, stroke in np.ndenumerate(strokes):\n",
    "        stroke_matrix[i] = np.vstack((stroke, np.ones((max_strokes - len(stroke), 2)) * 1000))\n",
    "    return stroke_matrix.reshape((-1, max_strokes * 2))\n",
    "\n",
    "def eval_accuracy_sk(classifier, test, train):\n",
    "    testY = np.indices(test.shape[:3])[1].reshape(-1)\n",
    "    trainY = np.indices(train.shape[:3])[1].reshape(-1)\n",
    "    test = test.reshape(-1)\n",
    "    train = train.reshape(-1)\n",
    "    padded = pad_strokes(np.hstack((test, train)))\n",
    "    testX, trainX = padded[:len(test)], padded[len(test):]\n",
    "    classifier.fit(trainX, trainY)\n",
    "    predictY = classifier.predict(testX)\n",
    "    return np.mean(testY == predictY)"
   ]
  },
  {
   "cell_type": "code",
   "execution_count": 148,
   "id": "6e34f7f9",
   "metadata": {},
   "outputs": [],
   "source": [
    "# Confirm similar results with scikit-learn:\n",
    "def run_sk(classifier):\n",
    "    letters, fs = load_dataset()\n",
    "    strokes = process_dataset(letters, fs)\n",
    "    test = strokes[:, :, 15:]\n",
    "    train = strokes[:, :, :15]\n",
    "    print(f\"With all subjects in training data: {round(eval_accuracy_sk(classifier, test, train) * 100, 2)}%\")\n",
    "    for subject in range(len(strokes)):\n",
    "        test = strokes[subject][None]\n",
    "        train = np.vstack((strokes[:subject], strokes[subject+1:]))\n",
    "        print(f\"Subject {subject}: {round(eval_accuracy_sk(classifier, test, train) * 100, 2)}%\")"
   ]
  },
  {
   "cell_type": "code",
   "execution_count": 167,
   "id": "a0645752",
   "metadata": {},
   "outputs": [
    {
     "name": "stdout",
     "output_type": "stream",
     "text": [
      "With all subjects in training data: 15.38%\n",
      "Subject 0: 11.73%\n",
      "Subject 1: 11.54%\n",
      "Subject 2: 10.58%\n",
      "Subject 3: 8.27%\n"
     ]
    }
   ],
   "source": [
    "import sklearn.neighbors\n",
    "from sklearn import svm\n",
    "from sklearn.tree import DecisionTreeClassifier\n",
    "from sklearn.ensemble import RandomForestClassifier\n",
    "\n",
    "run_sk(sklearn.neighbors.KNeighborsClassifier(1))\n",
    "# run_sk(sklearn.neighbors.KNeighborsClassifier(1, p=1))\n",
    "# run_sk(sklearn.neighbors.KNeighborsClassifier(5, p=1))\n",
    "# run_sk(sklearn.neighbors.RadiusNeighborsClassifier(0.7))"
   ]
  },
  {
   "cell_type": "code",
   "execution_count": 168,
   "id": "14540f72",
   "metadata": {},
   "outputs": [
    {
     "name": "stdout",
     "output_type": "stream",
     "text": [
      "With all subjects in training data: 10.96%\n",
      "Subject 0: 9.81%\n",
      "Subject 1: 11.35%\n",
      "Subject 2: 10.77%\n",
      "Subject 3: 10.77%\n"
     ]
    }
   ],
   "source": [
    "run_sk(svm.SVC())"
   ]
  },
  {
   "cell_type": "code",
   "execution_count": 152,
   "id": "3df60db2",
   "metadata": {},
   "outputs": [
    {
     "name": "stdout",
     "output_type": "stream",
     "text": [
      "With all subjects in training data: 22.69%\n",
      "Subject 0: 10.58%\n",
      "Subject 1: 12.69%\n",
      "Subject 2: 12.31%\n",
      "Subject 3: 8.85%\n"
     ]
    }
   ],
   "source": [
    "# run_sk(DecisionTreeClassifier())\n",
    "run_sk(RandomForestClassifier())"
   ]
  },
  {
   "cell_type": "code",
   "execution_count": 164,
   "id": "7a04b53e",
   "metadata": {},
   "outputs": [
    {
     "name": "stdout",
     "output_type": "stream",
     "text": [
      "With all subjects in training data: 11.35%\n",
      "Subject 0: 9.81%\n",
      "Subject 1: 10.19%\n",
      "Subject 2: 6.92%\n",
      "Subject 3: 5.0%\n"
     ]
    }
   ],
   "source": [
    "from sklearn.neural_network import MLPClassifier\n",
    "\n",
    "c = MLPClassifier(hidden_layer_sizes=(26,26,26,26))\n",
    "run_sk(c)"
   ]
  },
  {
   "cell_type": "code",
   "execution_count": 166,
   "id": "91e6aa64",
   "metadata": {},
   "outputs": [
    {
     "name": "stdout",
     "output_type": "stream",
     "text": [
      "With all subjects in training data: 10.96%\n",
      "Subject 0: 8.65%\n",
      "Subject 1: 11.35%\n",
      "Subject 2: 10.0%\n",
      "Subject 3: 8.27%\n"
     ]
    }
   ],
   "source": [
    "from sklearn.naive_bayes import MultinomialNB\n",
    "run_sk(MultinomialNB())"
   ]
  },
  {
   "cell_type": "markdown",
   "id": "6b571102",
   "metadata": {},
   "source": [
    "# Conclusion\n",
    "Having tried a bunch of classifiers on the same featureset, it looks like ~10% is about as good as it gets with the current formulation of strokes.\n",
    "\n",
    "Will try improving the stroke features next (by e.g. including stroke width).\n",
    "\n",
    "(Could do further experiments here on the effect of ignoring stroke time, and just looking at amplitude + order.)"
   ]
  },
  {
   "cell_type": "code",
   "execution_count": null,
   "id": "2eb75d0c",
   "metadata": {},
   "outputs": [],
   "source": []
  }
 ],
 "metadata": {
  "kernelspec": {
   "display_name": "Python 3 (ipykernel)",
   "language": "python",
   "name": "python3"
  },
  "language_info": {
   "codemirror_mode": {
    "name": "ipython",
    "version": 3
   },
   "file_extension": ".py",
   "mimetype": "text/x-python",
   "name": "python",
   "nbconvert_exporter": "python",
   "pygments_lexer": "ipython3",
   "version": "3.9.5"
  }
 },
 "nbformat": 4,
 "nbformat_minor": 5
}
